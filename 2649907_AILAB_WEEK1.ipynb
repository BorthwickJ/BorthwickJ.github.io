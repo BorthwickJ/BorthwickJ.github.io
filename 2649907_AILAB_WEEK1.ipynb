{
 "cells": [
  {
   "attachments": {},
   "cell_type": "markdown",
   "id": "4f47684e",
   "metadata": {},
   "source": [
    "# Week 1 - :  Getting started with Anaconda, Jupyter Notebook and Python\n",
    "\n",
    "I chose AI because I am interested in its potential capabilities in the near future\n",
    "\n",
    "I have no experience with AI or python, however I find coding to be easy\n",
    "\n",
    "\n",
    "\n"
   ]
  },
  {
   "cell_type": "code",
   "execution_count": 1,
   "id": "da4915d9",
   "metadata": {},
   "outputs": [
    {
     "name": "stdout",
     "output_type": "stream",
     "text": [
      "Hello World!\n"
     ]
    }
   ],
   "source": [
    "print (\"Hello World!\") "
   ]
  },
  {
   "cell_type": "code",
   "execution_count": 2,
   "id": "b9aa56e5",
   "metadata": {},
   "outputs": [
    {
     "name": "stdout",
     "output_type": "stream",
     "text": [
      "Hello World!\n"
     ]
    }
   ],
   "source": [
    "message = \"Hello World!\"\n",
    "\n",
    "print (message)"
   ]
  },
  {
   "cell_type": "code",
   "execution_count": 3,
   "id": "d9f1b9c3",
   "metadata": {},
   "outputs": [
    {
     "name": "stdout",
     "output_type": "stream",
     "text": [
      "Yo wat up\n"
     ]
    }
   ],
   "source": [
    "greeting = \"Yo wat up\"\n",
    "\n",
    "print (greeting)"
   ]
  },
  {
   "cell_type": "code",
   "execution_count": 4,
   "id": "eade8fae",
   "metadata": {},
   "outputs": [
    {
     "name": "stdout",
     "output_type": "stream",
     "text": [
      "Hello World!Yo wat up\n"
     ]
    }
   ],
   "source": [
    "print (message + greeting)"
   ]
  },
  {
   "cell_type": "code",
   "execution_count": 5,
   "id": "e9cf046c",
   "metadata": {},
   "outputs": [
    {
     "name": "stdout",
     "output_type": "stream",
     "text": [
      "Hello World!Hello World!Hello World!\n"
     ]
    }
   ],
   "source": [
    "print (message*3)"
   ]
  },
  {
   "cell_type": "code",
   "execution_count": 6,
   "id": "52f22fa4",
   "metadata": {},
   "outputs": [
    {
     "name": "stdout",
     "output_type": "stream",
     "text": [
      "H\n"
     ]
    }
   ],
   "source": [
    "print (message[0])"
   ]
  },
  {
   "cell_type": "code",
   "execution_count": 7,
   "id": "a0822281",
   "metadata": {},
   "outputs": [
    {
     "name": "stdout",
     "output_type": "stream",
     "text": [
      "l\n"
     ]
    }
   ],
   "source": [
    "print (message[2])"
   ]
  },
  {
   "cell_type": "code",
   "execution_count": 8,
   "id": "ce0c1c49",
   "metadata": {},
   "outputs": [],
   "source": [
    "from IPython.display import *"
   ]
  },
  {
   "cell_type": "code",
   "execution_count": 9,
   "id": "73261b44",
   "metadata": {},
   "outputs": [
    {
     "ename": "NameError",
     "evalue": "name 'YouTubevideo' is not defined",
     "output_type": "error",
     "traceback": [
      "\u001b[0;31m---------------------------------------------------------------------------\u001b[0m",
      "\u001b[0;31mNameError\u001b[0m                                 Traceback (most recent call last)",
      "Cell \u001b[0;32mIn[9], line 1\u001b[0m\n\u001b[0;32m----> 1\u001b[0m YouTubevideo(\u001b[38;5;124m\"\u001b[39m\u001b[38;5;124mKnumAWWWgUE\u001b[39m\u001b[38;5;124m\"\u001b[39m)\n",
      "\u001b[0;31mNameError\u001b[0m: name 'YouTubevideo' is not defined"
     ]
    }
   ],
   "source": [
    "YouTubevideo(\"KnumAWWWgUE\")"
   ]
  },
  {
   "cell_type": "code",
   "execution_count": 10,
   "id": "c69f585f",
   "metadata": {},
   "outputs": [
    {
     "data": {
      "image/jpeg": "[encoded data removed]",
      "text/html": [
       "\n",
       "        <iframe\n",
       "            width=\"400\"\n",
       "            height=\"300\"\n",
       "            src=\"https://www.youtube.com/embed/KnumAWWWgUE\"\n",
       "            frameborder=\"0\"\n",
       "            allowfullscreen\n",
       "            \n",
       "        ></iframe>\n",
       "        "
      ],
      "text/plain": [
       "<IPython.lib.display.YouTubeVideo at 0x10ef70e10>"
      ]
     },
     "execution_count": 10,
     "metadata": {},
     "output_type": "execute_result"
    }
   ],
   "source": [
    "YouTubeVideo(\"KnumAWWWgUE\")"
   ]
  },
  {
   "cell_type": "code",
   "execution_count": null,
   "id": "45d4d5a3",
   "metadata": {},
   "outputs": [
    {
     "name": "stdout",
     "output_type": "stream",
     "text": [
      "Shall we hunt down an old website?\n"
     ]
    }
   ],
   "source": [
    "print(\"Shall we hunt down an old website?\")\n",
    "site = input(\"Type a website URL: \")\n",
    "era = input(\"Type year, month, and date, e.g., 20150613: \")\n",
    "url = \"http://archive.org/wayback/available?url=%s&timestamp=%s\" % (site, era)\n",
    "response = requests.get(url)\n",
    "data = response.json()\n",
    "try:\n",
    "    old_site = data[\"archived_snapshots\"][\"closest\"][\"url\"]\n",
    "    print(\"Found this copy: \", old_site)\n",
    "    print(\"It should appear in your browser.\")\n",
    "    webbrowser.open(old_site)\n",
    "except:\n",
    "    print(\"Sorry, could not find the site.\")\n",
    "\n"
   ]
  },
  {
   "cell_type": "code",
   "execution_count": null,
   "id": "24456e7e",
   "metadata": {},
   "outputs": [],
   "source": []
  }
 ],
 "metadata": {
  "kernelspec": {
   "display_name": "Python 3 (ipykernel)",
   "language": "python",
   "name": "python3"
  },
  "language_info": {
   "codemirror_mode": {
    "name": "ipython",
    "version": 3
   },
   "file_extension": ".py",
   "mimetype": "text/x-python",
   "name": "python",
   "nbconvert_exporter": "python",
   "pygments_lexer": "ipython3",
   "version": "3.11.5"
  }
 },
 "nbformat": 4,
 "nbformat_minor": 5
}
